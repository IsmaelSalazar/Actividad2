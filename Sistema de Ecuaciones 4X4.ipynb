{
 "cells": [
  {
   "cell_type": "code",
   "execution_count": 11,
   "id": "565c15ad",
   "metadata": {},
   "outputs": [
    {
     "name": "stdout",
     "output_type": "stream",
     "text": [
      "LA MATRIZ INGRESADA ES:\n",
      "[[ 4. -1.  0. -1.]\n",
      " [-1.  4. -1.  0.]\n",
      " [-1.  0. -1.  4.]\n",
      " [ 0. -1.  4. -1.]] [[30.]\n",
      " [60.]\n",
      " [70.]\n",
      " [40.]]\n",
      "LAS SOLUCIONES PARA EL SISTEMA DE ECUACIONES RESPECTIVAMENTE SON (X1, X2, X3, X4):\n",
      "[17.54166667 18.83333333 15.33333333 21.33333333]\n"
     ]
    }
   ],
   "source": [
    "from numpy import array, zeros, dot, diag\n",
    "\n",
    "A = array([[4., -1., 0., -1.], [-1., 4., -1., 0.], [-1., 0., -1., 4.], [0., -1., 4., -1.]])\n",
    "B = array([[30.], [60.], [70.], [40.]])\n",
    "\n",
    "def GEPP(A, b):\n",
    "#Eliminacion gaussiana con pivote\n",
    "    n = len(A)\n",
    "    if b.size != n:\n",
    "        raise ValueError(\"Invalid argument: incompatible sizes between A & b.\", b.size, n)\n",
    "    \n",
    "    for k in range(n - 1):\n",
    "         maxindex = abs(A[k:, k]).argmax() + k\n",
    "    if A[maxindex, k] == 0:\n",
    "            raise ValueError(\"Matrix is singular.\")\n",
    "\n",
    "    if maxindex != k:\n",
    "            A[[k, maxindex]] = A[[maxindex, k]]\n",
    "            b[[k, maxindex]] = b[[maxindex, k]]\n",
    "\n",
    "    for row in range(k + 1, n):\n",
    "            multiplier = A[row][k] / A[k][k]\n",
    "\n",
    "            A[row][k] = multiplier\n",
    "            for col in range(k + 1, n):\n",
    "                A[row][col] = A[row][col] - multiplier * A[k][col]\n",
    "            b[row] = b[row] - multiplier * b[k]\n",
    "    x = zeros(n)\n",
    "    k = n - 1\n",
    "    x[k] = b[k] / A[k, k]\n",
    "    while k >= 0:\n",
    "        x[k] = (b[k] - dot(A[k, k + 1:], x[k + 1:])) / A[k, k]\n",
    "        k = k - 1\n",
    "    return x\n",
    "\n",
    "print('LA MATRIZ INGRESADA ES:')\n",
    "print(A,B)\n",
    "Aug = GEPP(A, B)\n",
    "print('LAS SOLUCIONES PARA EL SISTEMA DE ECUACIONES '\n",
    "      'RESPECTIVAMENTE SON (X1, X2, X3, X4):')\n",
    "print (Aug)"
   ]
  },
  {
   "cell_type": "code",
   "execution_count": null,
   "id": "f1fd37dd",
   "metadata": {},
   "outputs": [],
   "source": [
    "#Codigo creado por Ismael Salazar"
   ]
  }
 ],
 "metadata": {
  "kernelspec": {
   "display_name": "Python 3",
   "language": "python",
   "name": "python3"
  },
  "language_info": {
   "codemirror_mode": {
    "name": "ipython",
    "version": 3
   },
   "file_extension": ".py",
   "mimetype": "text/x-python",
   "name": "python",
   "nbconvert_exporter": "python",
   "pygments_lexer": "ipython3",
   "version": "3.8.8"
  }
 },
 "nbformat": 4,
 "nbformat_minor": 5
}
