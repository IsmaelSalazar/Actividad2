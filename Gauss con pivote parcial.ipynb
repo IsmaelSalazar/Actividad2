{
 "cells": [
  {
   "cell_type": "code",
   "execution_count": 1,
   "id": "7185f9cf",
   "metadata": {},
   "outputs": [
    {
     "name": "stdout",
     "output_type": "stream",
     "text": [
      "La matriz ingresada es:\n",
      "[[ 4 -1  0 -1]\n",
      " [-1  4 -1  0]\n",
      " [-1  0 -1  4]\n",
      " [ 0 -1  4 -1]] [[30]\n",
      " [60]\n",
      " [70]\n",
      " [40]]\n",
      "Las soluciones para el sistema de ecuaciones son.....X_1, X_2, X_3, X_4\n",
      "[ -16.08333333  -54.33333333 -230.          -40.        ]\n"
     ]
    }
   ],
   "source": [
    "from numpy import array, zeros, dot, diag\n",
    "\n",
    "A= array([[4, -1, 0, -1], [-1, 4, -1, 0], [-1, 0, -1, 4], [0, -1, 4, -1]])\n",
    "\n",
    "B= array([[30], [60], [70], [40]])\n",
    "\n",
    "\n",
    "def GEPP(A, b):\n",
    "    \n",
    "    n= len(A)\n",
    "    if b.size != n:\n",
    "        raise ValueError(\"Invalid argument: incompatible sizes between A y b\", b.size, n)\n",
    "        \n",
    "    for k in range(n -1):\n",
    "        \n",
    "        maxindex = abs(A[k:, k]). argmax() + k\n",
    "        if A[maxindex, k] == 0:\n",
    "            raise ValueError(\"Matrix is singular\")\n",
    "            \n",
    "        if maxindex != k:\n",
    "            A[[k, maxindex]] = A[[maxindex, k]]\n",
    "            b[[k, maxindex]] = b[[maxindex, k]]\n",
    "            \n",
    "        for row in range (k + 1, n):\n",
    "            multiplier = A[row][k] / A[k][k]\n",
    "            \n",
    "            A[row][k] = multiplier\n",
    "            \n",
    "            for col in range (k +1, n):\n",
    "                A[row][col]= A[row][col] - multiplier * A[k][col]\n",
    "                b[row] = b[row] - multiplier * b[k]\n",
    "                \n",
    "                x = zeros(n)\n",
    "                k=n -1\n",
    "                x[k] = b[k] / A[k, k]\n",
    "                \n",
    "                while k>= 0:\n",
    "                    x[k] = (b[k] - dot(A[k, k +1:], x[k +1:])) / A [k, k]\n",
    "                    k = k -1\n",
    "                return x\n",
    "            \n",
    "print('La matriz ingresada es:')\n",
    "print(A,B)\n",
    "Aug = GEPP(A, B)\n",
    "print('Las soluciones para el sistema de ecuaciones son.....X_1, X_2, X_3, X_4')\n",
    "print (Aug)\n",
    "    \n",
    "    \n",
    "    "
   ]
  },
  {
   "cell_type": "code",
   "execution_count": 2,
   "id": "bec660c3",
   "metadata": {},
   "outputs": [],
   "source": [
    "# Creado por Ismael Salazar"
   ]
  },
  {
   "cell_type": "code",
   "execution_count": null,
   "id": "660aea0a",
   "metadata": {},
   "outputs": [],
   "source": []
  }
 ],
 "metadata": {
  "kernelspec": {
   "display_name": "Python 3",
   "language": "python",
   "name": "python3"
  },
  "language_info": {
   "codemirror_mode": {
    "name": "ipython",
    "version": 3
   },
   "file_extension": ".py",
   "mimetype": "text/x-python",
   "name": "python",
   "nbconvert_exporter": "python",
   "pygments_lexer": "ipython3",
   "version": "3.8.8"
  }
 },
 "nbformat": 4,
 "nbformat_minor": 5
}
