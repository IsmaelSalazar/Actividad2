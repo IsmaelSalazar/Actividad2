{
 "cells": [
  {
   "cell_type": "code",
   "execution_count": 26,
   "id": "74b7d3ef",
   "metadata": {},
   "outputs": [
    {
     "name": "stdout",
     "output_type": "stream",
     "text": [
      "Matriz Ingresada\n",
      "[[ 12   6  -8]\n",
      " [-20  -6  12]\n",
      " [ -8   8  10]] [ 12  -7 -18]\n",
      " \n",
      "[[  1   0   0]\n",
      " [-20  -6  12]\n",
      " [ -8   8  10]] [  1  -7 -18]\n",
      " \n",
      "[[ 1  0  0]\n",
      " [ 0 -6 12]\n",
      " [-8  8 10]] [  1  13 -18]\n",
      " \n",
      "[[ 1  0  0]\n",
      " [ 0 -6 12]\n",
      " [ 0  8 10]] [  1  13 -10]\n",
      " \n",
      "[[ 1  0  0]\n",
      " [ 0  1 -2]\n",
      " [ 0  8 10]] [  1  -2 -10]\n",
      " \n",
      "[[ 1  0  0]\n",
      " [ 0  1 -2]\n",
      " [ 0  0 26]] [ 1 -2  6]\n",
      " \n",
      "La matriz reducidad es:\n",
      "[[ 1  0  0]\n",
      " [ 0  1 -2]\n",
      " [ 0  0  1]] [ 1 -2  0]\n"
     ]
    }
   ],
   "source": [
    "#Método de sustitución regresiva para matrices 3 X 3\n",
    "import numpy as np\n",
    "#Trabajaremos con la libreria numpy para poder crear matrices\n",
    "\n",
    "#Creamos la matriz\n",
    "A=np.array([[12,6,-8],\n",
    "            [-20,-6,12],\n",
    "            [-8,8,10]])\n",
    "\n",
    "#Armo mi vector Pivote\n",
    "b=np.array([12,-7,-18])\n",
    "\n",
    "print(\"Matriz Ingresada\")\n",
    "print(A,b)\n",
    "print(\" \")\n",
    "\n",
    "N=len(b)\n",
    "x=np.zeros(N)\n",
    "\n",
    "for i in range(N-1):\n",
    "#Armo los reglones Pivote, Marcados con la \"i\" \n",
    "\n",
    "    b[i]=b[i]/A[i][i]\n",
    "    A[i]=A[i]/A[i][i]\n",
    "    print(A,b)\n",
    "    print(\" \")\n",
    "    for k in range(i+1,N):\n",
    "#Reduzco las filas aplicando los pivotes para hacer cero los numeros debajo de la \n",
    "#Diagonal Principal\n",
    "        b[k]=b[k]-A[k][i]*b[i]\n",
    "        A[k]=A[k]-A[k][i]*A[i]\n",
    "        print(A,b)\n",
    "        print(\" \")\n",
    "    \n",
    "i=N-1\n",
    "b[i]=b[i]/A[i][i]\n",
    "A[i]=A[i]/A[i][i]\n",
    "\n",
    "#Imprimo la matriz final\n",
    "    \n",
    "print(\"La matriz reducidad es:\")    \n",
    "print(A,b)"
   ]
  },
  {
   "cell_type": "code",
   "execution_count": 19,
   "id": "cb9a106e",
   "metadata": {},
   "outputs": [],
   "source": [
    "#Código creado por Ismael Salazar"
   ]
  }
 ],
 "metadata": {
  "kernelspec": {
   "display_name": "Python 3",
   "language": "python",
   "name": "python3"
  },
  "language_info": {
   "codemirror_mode": {
    "name": "ipython",
    "version": 3
   },
   "file_extension": ".py",
   "mimetype": "text/x-python",
   "name": "python",
   "nbconvert_exporter": "python",
   "pygments_lexer": "ipython3",
   "version": "3.8.8"
  }
 },
 "nbformat": 4,
 "nbformat_minor": 5
}
